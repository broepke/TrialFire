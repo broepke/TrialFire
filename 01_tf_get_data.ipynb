{
 "cells": [
  {
   "cell_type": "code",
   "execution_count": 1,
   "metadata": {},
   "outputs": [],
   "source": [
    "import pandas as pd\n",
    "import psycopg2\n",
    "import os\n",
    "from sqlalchemy import create_engine\n",
    "from urllib.parse import quote_plus"
   ]
  },
  {
   "cell_type": "code",
   "execution_count": 2,
   "metadata": {},
   "outputs": [],
   "source": [
    "tf_user = os.environ.get(\"TRIALFIRE_USER\")\n",
    "tf_pass = os.environ.get(\"TRIALFIRE_PASS\")\n",
    "tf_db = os.environ.get(\"TRIALFIRE_DB\")\n",
    "tf_host = os.environ.get(\"TRIALFIRE_HOST\")\n",
    "tf_api = os.environ.get(\"TRIALFIRE_API\")\n",
    "tf_port = 5432"
   ]
  },
  {
   "cell_type": "code",
   "execution_count": 3,
   "metadata": {},
   "outputs": [],
   "source": [
    "uri = f\"postgresql+psycopg2://{quote_plus(tf_user)}:{quote_plus(tf_pass)}@{tf_host}:{tf_port}/{tf_db}\"\n",
    "alchemyEngine = create_engine(uri)"
   ]
  },
  {
   "cell_type": "code",
   "execution_count": 4,
   "metadata": {},
   "outputs": [],
   "source": [
    "dbConnection = alchemyEngine.connect();"
   ]
  },
  {
   "attachments": {},
   "cell_type": "markdown",
   "metadata": {},
   "source": [
    "## Calculate and Set Class Balances Based on 10% of Data"
   ]
  },
  {
   "cell_type": "code",
   "execution_count": 5,
   "metadata": {},
   "outputs": [],
   "source": [
    "# Us this to get the balance ratios to limit the number of rows\n",
    "true_counts = \"\"\"\n",
    "SELECT COUNT(*)\n",
    "FROM person_\"\"\" + tf_api + \"\"\" P\n",
    "WHERE (P.has_purchased is True) \n",
    "AND (P.first_seen < CURRENT_DATE - INTERVAL '7 days')\n",
    "AND (P.first_seen > CURRENT_DATE - INTERVAL '6 months');\n",
    "\"\"\""
   ]
  },
  {
   "cell_type": "code",
   "execution_count": 6,
   "metadata": {},
   "outputs": [],
   "source": [
    "# Us this to get the balance ratios to limit the number of rows\n",
    "false_counts = \"\"\"\n",
    "SELECT COUNT(*)\n",
    "FROM person_\"\"\" + tf_api + \"\"\" P\n",
    "WHERE (P.has_purchased is False) \n",
    "AND (P.first_seen < CURRENT_DATE - INTERVAL '7 days') \n",
    "AND (P.first_seen > CURRENT_DATE - INTERVAL '6 months');\n",
    "\"\"\""
   ]
  },
  {
   "cell_type": "code",
   "execution_count": 7,
   "metadata": {},
   "outputs": [
    {
     "data": {
      "text/plain": [
       "76953"
      ]
     },
     "execution_count": 7,
     "metadata": {},
     "output_type": "execute_result"
    }
   ],
   "source": [
    "df_true = pd.read_sql(true_counts, dbConnection);\n",
    "df_true.iloc[0,0]"
   ]
  },
  {
   "cell_type": "code",
   "execution_count": 8,
   "metadata": {},
   "outputs": [
    {
     "data": {
      "text/plain": [
       "2600466"
      ]
     },
     "execution_count": 8,
     "metadata": {},
     "output_type": "execute_result"
    }
   ],
   "source": [
    "df_false = pd.read_sql(false_counts, dbConnection);\n",
    "df_false.iloc[0,0]"
   ]
  },
  {
   "cell_type": "code",
   "execution_count": 9,
   "metadata": {},
   "outputs": [
    {
     "data": {
      "text/plain": [
       "7695"
      ]
     },
     "execution_count": 9,
     "metadata": {},
     "output_type": "execute_result"
    }
   ],
   "source": [
    "lim_true = int(df_true.iloc[0,0] * .1)\n",
    "lim_true"
   ]
  },
  {
   "cell_type": "code",
   "execution_count": 10,
   "metadata": {},
   "outputs": [
    {
     "data": {
      "text/plain": [
       "260046"
      ]
     },
     "execution_count": 10,
     "metadata": {},
     "output_type": "execute_result"
    }
   ],
   "source": [
    "lim_false = int(df_false.iloc[0,0] * .1)\n",
    "lim_false"
   ]
  },
  {
   "attachments": {},
   "cell_type": "markdown",
   "metadata": {},
   "source": [
    "## Get the Data"
   ]
  },
  {
   "cell_type": "code",
   "execution_count": 11,
   "metadata": {},
   "outputs": [],
   "source": [
    "person_purchased = \"\"\"\n",
    "SELECT\n",
    "P.person_id, \n",
    "P.first_utm_medium,\n",
    "P.first_utm_source,\n",
    "P.multi_device::int, \n",
    "P.session_count,\n",
    "P.last_utm_medium,\n",
    "P.last_utm_source,\n",
    "P.source_category,\n",
    "P.source_category_2,\n",
    "P.source_category_3, \n",
    "EXTRACT(EPOCH FROM (P.last_seen - P.first_seen)) as seconds_since_first_vist,\n",
    "count(distinct S.first_utm_content) as first_utm_content_distinct,\t\n",
    "count(distinct S.first_utm_medium) as first_utm_medium_distinct,\t\n",
    "count(distinct S.first_utm_source) as first_utm_source_distinct,\t\n",
    "count(distinct S.first_utm_term) as first_utm_term_distinct,\n",
    "sum(S.click_count) as click_count_sum,\n",
    "sum(S.input_count) as input_count_sum,\n",
    "sum(S.identify_count) as identify_count_sum,\n",
    "sum(S.view_count) as view_count_sum,\n",
    "sum(S.page_count) page_count_sum,\n",
    "count(distinct S.source_category) as source_category_distinct,\n",
    "avg(S.session_duration) as session_duration_avg,\n",
    "P.has_purchased::int\n",
    "FROM person_\"\"\" + tf_api + \"\"\" P\n",
    "JOIN session_\"\"\" + tf_api + \"\"\" S \n",
    "ON S.person_id = P.person_id\n",
    "WHERE (P.has_purchased is True) \n",
    "AND (P.first_seen < CURRENT_DATE - INTERVAL '7 days')\n",
    "AND (P.first_seen > CURRENT_DATE - INTERVAL '6 months')\n",
    "GROUP BY P.person_id\n",
    "ORDER BY random()\n",
    "LIMIT \"\"\" + str(lim_true) + ';'"
   ]
  },
  {
   "cell_type": "code",
   "execution_count": 12,
   "metadata": {},
   "outputs": [],
   "source": [
    "person_not = \"\"\"\n",
    "SELECT\n",
    "P.person_id, \n",
    "P.first_utm_medium,\n",
    "P.first_utm_source,\n",
    "P.multi_device::int, \n",
    "P.session_count,\n",
    "P.last_utm_medium,\n",
    "P.last_utm_source,\n",
    "P.source_category,\n",
    "P.source_category_2,\n",
    "P.source_category_3, \n",
    "EXTRACT(EPOCH FROM (P.last_seen - P.first_seen)) as seconds_since_first_vist,\n",
    "count(distinct S.first_utm_content) as first_utm_content_distinct,\t\n",
    "count(distinct S.first_utm_medium) as first_utm_medium_distinct,\t\n",
    "count(distinct S.first_utm_source) as first_utm_source_distinct,\t\n",
    "count(distinct S.first_utm_term) as first_utm_term_distinct,\n",
    "sum(S.click_count) as click_count_sum,\n",
    "sum(S.input_count) as input_count_sum,\n",
    "sum(S.identify_count) as identify_count_sum,\n",
    "sum(S.view_count) as view_count_sum,\n",
    "sum(S.page_count) page_count_sum,\n",
    "count(distinct S.source_category) as source_category_distinct,\n",
    "avg(S.session_duration) as session_duration_avg,\n",
    "P.has_purchased::int\n",
    "FROM person_\"\"\" + tf_api + \"\"\" P\n",
    "JOIN session_\"\"\" + tf_api + \"\"\" S \n",
    "ON S.person_id = P.person_id\n",
    "WHERE (P.has_purchased is False) \n",
    "AND (P.first_seen < CURRENT_DATE - INTERVAL '7 days')\n",
    "AND (P.first_seen > CURRENT_DATE - INTERVAL '6 months')\n",
    "GROUP BY P.person_id\n",
    "ORDER BY random()\n",
    "LIMIT  \"\"\" + str(lim_false) + ';'"
   ]
  },
  {
   "cell_type": "code",
   "execution_count": 13,
   "metadata": {},
   "outputs": [],
   "source": [
    "person_test = \"\"\"\n",
    "SELECT\n",
    "P.person_id, \n",
    "P.first_utm_medium,\n",
    "P.first_utm_source,\n",
    "P.multi_device::int, \n",
    "P.session_count,\n",
    "P.last_utm_medium,\n",
    "P.last_utm_source,\n",
    "P.source_category,\n",
    "P.source_category_2,\n",
    "P.source_category_3, \n",
    "EXTRACT(EPOCH FROM (P.last_seen - P.first_seen)) as seconds_since_first_vist,\n",
    "count(distinct S.first_utm_content) as first_utm_content_distinct,\t\n",
    "count(distinct S.first_utm_medium) as first_utm_medium_distinct,\t\n",
    "count(distinct S.first_utm_source) as first_utm_source_distinct,\t\n",
    "count(distinct S.first_utm_term) as first_utm_term_distinct,\n",
    "sum(S.click_count) as click_count_sum,\n",
    "sum(S.input_count) as input_count_sum,\n",
    "sum(S.identify_count) as identify_count_sum,\n",
    "sum(S.view_count) as view_count_sum,\n",
    "sum(S.page_count) page_count_sum,\n",
    "count(distinct S.source_category) as source_category_distinct,\n",
    "avg(S.session_duration) as session_duration_avg,\n",
    "P.has_purchased::int\n",
    "FROM person_\"\"\" + tf_api + \"\"\" P\n",
    "JOIN session_\"\"\" + tf_api + \"\"\" S \n",
    "ON S.person_id = P.person_id\n",
    "WHERE (P.has_purchased is False) \n",
    "AND (P.last_seen > CURRENT_DATE - INTERVAL '7 days')\n",
    "GROUP BY P.person_id;\n",
    "\"\"\""
   ]
  },
  {
   "cell_type": "code",
   "execution_count": 14,
   "metadata": {},
   "outputs": [],
   "source": [
    "df_purchased = pd.read_sql(person_purchased, dbConnection);"
   ]
  },
  {
   "cell_type": "code",
   "execution_count": 15,
   "metadata": {},
   "outputs": [],
   "source": [
    "df_not = pd.read_sql(person_not, dbConnection);"
   ]
  },
  {
   "cell_type": "code",
   "execution_count": 16,
   "metadata": {},
   "outputs": [],
   "source": [
    "df_test = pd.read_sql(person_test, dbConnection);"
   ]
  },
  {
   "cell_type": "code",
   "execution_count": 17,
   "metadata": {},
   "outputs": [
    {
     "name": "stdout",
     "output_type": "stream",
     "text": [
      "(7695, 23)\n",
      "(260046, 23)\n",
      "(251630, 23)\n"
     ]
    }
   ],
   "source": [
    "print(df_purchased.shape)\n",
    "print(df_not.shape)\n",
    "print(df_test.shape)"
   ]
  },
  {
   "cell_type": "code",
   "execution_count": 18,
   "metadata": {},
   "outputs": [],
   "source": [
    "df_purchased.to_pickle(\"person_purchased.pkl\")\n",
    "df_not.to_pickle(\"person_not.pkl\")\n",
    "df_test.to_pickle(\"person_test.pkl\")\n"
   ]
  },
  {
   "cell_type": "code",
   "execution_count": null,
   "metadata": {},
   "outputs": [],
   "source": [
    "dbConnection.close()"
   ]
  }
 ],
 "metadata": {
  "kernelspec": {
   "display_name": "Python 3.9.13 ('ML')",
   "language": "python",
   "name": "python3"
  },
  "language_info": {
   "codemirror_mode": {
    "name": "ipython",
    "version": 3
   },
   "file_extension": ".py",
   "mimetype": "text/x-python",
   "name": "python",
   "nbconvert_exporter": "python",
   "pygments_lexer": "ipython3",
   "version": "3.9.15"
  },
  "orig_nbformat": 4,
  "vscode": {
   "interpreter": {
    "hash": "3bc6cb94701899e3bf5d255966bdeee82bd3c52ee4f583dec08e492c946e9c62"
   }
  }
 },
 "nbformat": 4,
 "nbformat_minor": 2
}
